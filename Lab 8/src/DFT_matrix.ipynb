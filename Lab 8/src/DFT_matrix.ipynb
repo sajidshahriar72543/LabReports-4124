{
  "nbformat": 4,
  "nbformat_minor": 0,
  "metadata": {
    "colab": {
      "provenance": []
    },
    "kernelspec": {
      "name": "python3",
      "display_name": "Python 3"
    },
    "language_info": {
      "name": "python"
    }
  },
  "cells": [
    {
      "cell_type": "code",
      "execution_count": null,
      "metadata": {
        "id": "OqW7NXx0iZxh"
      },
      "outputs": [],
      "source": [
        "import numpy as np\n",
        "import math"
      ]
    },
    {
      "cell_type": "code",
      "source": [
        "def dft(x):\n",
        "  N = len(x)\n",
        "  n = np.arange(N)\n",
        "  k = n.reshape((N,1))\n",
        "  tf = np.exp(-2j*np.pi*k*n/N)\n",
        "\n",
        "  print(\"\\n\")\n",
        "  print(\"Twiddle Factor: \")\n",
        "  print(np.round(tf, decimals=3))\n",
        "  print(\"\\n\")\n",
        "\n",
        "  return np.dot(tf,x)\n",
        "\n",
        "if __name__ == \"__main__\":\n",
        "\n",
        "  inp = int(input(\"Enter your choice: \"))\n",
        "  if inp==1:\n",
        "    n = int(input(\"Number of elements: \"))\n",
        "    x = np.asarray(list(map(int, input().split())))\n",
        "    for i in range (n):\n",
        "      x[i] = x[i]+1\n",
        "    # print(x)\n",
        "    print(\"DFT: \", np.round(dft(x), decimals=3))\n",
        "    # print(\"DFT: \", dft(x))\n",
        "\n",
        "  elif inp==2:\n",
        "    n = int(input(\"Number of elements: \"))\n",
        "    x = np.asarray(list(map(int, input().split())))\n",
        "    for i in range (n):\n",
        "      m = math.sin(180*x[i])\n",
        "      x[i] = m\n",
        "    print(x)\n",
        "    # print(\"DFT: \", np.round(dft(x), decimals=3))\n",
        "    print(\"DFT: \", dft(x))\n",
        "\n",
        "  elif inp==3:\n",
        "    n = int(input(\"Number of elements: \"))\n",
        "    x = np.asarray(list(map(int, input().split())))\n",
        "    for i in range (n):\n",
        "      m = math.cos(180*x[i])\n",
        "      x[i] = m\n",
        "    # print(x)\n",
        "    # print(\"DFT: \", np.round(dft(x), decimals=3))\n",
        "    print(\"DFT: \", dft(x))"
      ],
      "metadata": {
        "id": "Fth6_5z1ipfb"
      },
      "execution_count": null,
      "outputs": []
    },
    {
      "cell_type": "code",
      "source": [
        "# import math\n",
        "# import numpy as np\n",
        "\n",
        "# n = int(input(\"Number of elements: \"))\n",
        "# x = list(map(int, input().split()))\n",
        "# for i in range(n):\n",
        "#    m = math.sin(np.pi * x[i])\n",
        "#    x[i] = m\n",
        "# print(x)"
      ],
      "metadata": {
        "colab": {
          "base_uri": "https://localhost:8080/"
        },
        "id": "f0z3iK7Xk0gT",
        "outputId": "4d40ad7d-3374-43e3-d8f9-4c9392935c94"
      },
      "execution_count": null,
      "outputs": [
        {
          "output_type": "stream",
          "name": "stdout",
          "text": [
            "Number of elements: 5\n",
            "0 45 90 135 180\n",
            "[0.0, 1.9581969173625882e-15, -3.9163938347251765e-15, 3.4296300182491775e-14, -7.832787669450353e-15]\n"
          ]
        }
      ]
    },
    {
      "cell_type": "code",
      "source": [],
      "metadata": {
        "id": "CI_LT4hsvG7D"
      },
      "execution_count": null,
      "outputs": []
    }
  ]
}